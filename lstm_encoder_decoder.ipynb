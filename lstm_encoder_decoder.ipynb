{
 "cells": [
  {
   "cell_type": "markdown",
   "metadata": {},
   "source": [
    "# LSTM encoder decoder\n",
    "\n",
    "This notebook demonstrates use of an LSTM encoder-decoder model to predict electricty usage."
   ]
  },
  {
   "cell_type": "code",
   "execution_count": 1,
   "metadata": {},
   "outputs": [],
   "source": [
    "import torch\n",
    "import torch.nn as nn\n",
    "import torch.optim as optim\n",
    "from torch.utils.data import Dataset, DataLoader\n",
    "\n",
    "import pandas as pd\n",
    "from sklearn.preprocessing import StandardScaler\n",
    "import matplotlib.pyplot as plt\n",
    "import numpy as np\n",
    "from tqdm import tqdm \n",
    "from energy_data import import_energy_data\n",
    "from ts_utils import create_sliding_window\n",
    "from sklearn.model_selection import TimeSeriesSplit\n",
    "\n",
    "from models.lstm_encoder_decoder import lstm_seq2seq"
   ]
  },
  {
   "cell_type": "code",
   "execution_count": 2,
   "metadata": {},
   "outputs": [],
   "source": [
    "class ElectricityDataset(Dataset):\n",
    "    \n",
    "    def __init__(self,X,y):\n",
    "        self.X,self.y = X,y\n",
    "        \n",
    "    def __len__(self):\n",
    "        return len(self.y)\n",
    "    \n",
    "    def __getitem__(self, idx):\n",
    "        return self.X[idx],self.y[idx]"
   ]
  },
  {
   "cell_type": "code",
   "execution_count": 3,
   "metadata": {},
   "outputs": [],
   "source": [
    "def train_and_evaluate(model,dl_train,dl_valid,n_epochs,optimizer, loss_fn):\n",
    "    training_losses = np.full(n_epochs, np.nan)\n",
    "    eval_losses = np.full(n_epochs, np.nan)\n",
    "    with tqdm(total=n_epochs) as tr:\n",
    "        for epoch in range(n_epochs):\n",
    "            train_loss = model.train_single_epoch(dl_train, optimizer, loss_fn)\n",
    "            eval_loss = model.evaluate(dl_valid, loss_fn)\n",
    "            # loss for epoch \n",
    "            training_losses\n",
    "            training_losses[epoch] = train_loss\n",
    "            eval_losses[epoch] = eval_loss\n",
    "            # progress bar \n",
    "            tr.set_postfix(eval_loss=\"{0:.5f}\".format(eval_loss))\n",
    "            tr.update()\n",
    "    return training_losses,eval_losses"
   ]
  },
  {
   "cell_type": "code",
   "execution_count": 4,
   "metadata": {},
   "outputs": [],
   "source": [
    "# example of a pure encoder-decoder based approach"
   ]
  },
  {
   "cell_type": "code",
   "execution_count": 5,
   "metadata": {},
   "outputs": [],
   "source": [
    "# we'll use the electricity data for this, import:\n",
    "energy_df = import_energy_data()\n",
    "\n",
    "train_split = 0.7\n",
    "n_train = int(train_split * len(energy_df))\n",
    "n_test = len(energy_df) - n_train\n",
    "\n",
    "features = ['log_energy_consumption']\n",
    "feature_array = energy_df[features].values\n",
    "\n",
    "# Fit Scaler only on Training features\n",
    "scaler = StandardScaler()\n",
    "scaler.fit(feature_array[:n_train])\n",
    "\n",
    "# Transform on both Training and Test data\n",
    "scaled_array = pd.DataFrame(scaler.transform(feature_array),\n",
    "                            columns=features)"
   ]
  },
  {
   "cell_type": "code",
   "execution_count": 6,
   "metadata": {},
   "outputs": [],
   "source": [
    "sequence_length = 24\n",
    "output_size = 12\n",
    "X, y = create_sliding_window(scaled_array, sequence_length,output_size=output_size)\n",
    "\n",
    "X_train = X[:n_train]\n",
    "y_train = y[:n_train]\n",
    "\n",
    "X_test = X[n_train:]\n",
    "y_test = y[n_train:]"
   ]
  },
  {
   "cell_type": "code",
   "execution_count": 7,
   "metadata": {},
   "outputs": [],
   "source": [
    "X_train = torch.tensor(X_train).float()\n",
    "y_train = torch.tensor(y_train).unsqueeze(2).float()\n",
    "X_test = torch.tensor(X_test).float()\n",
    "#y_test = torch.tensor(y_test).unsqueeze(2).float()"
   ]
  },
  {
   "cell_type": "code",
   "execution_count": 8,
   "metadata": {},
   "outputs": [
    {
     "name": "stderr",
     "output_type": "stream",
     "text": [
      "100%|█████████████████████████████████████████████████████████████████| 2/2 [00:13<00:00,  6.70s/it, eval_loss=0.89774]\n",
      "100%|█████████████████████████████████████████████████████████████████| 2/2 [00:15<00:00,  7.51s/it, eval_loss=0.82437]\n",
      "100%|█████████████████████████████████████████████████████████████████| 2/2 [00:17<00:00,  8.94s/it, eval_loss=0.78538]\n"
     ]
    },
    {
     "data": {
      "image/png": "[encoded data removed]",
      "text/plain": [
       "<Figure size 432x288 with 1 Axes>"
      ]
     },
     "metadata": {
      "needs_background": "light"
     },
     "output_type": "display_data"
    }
   ],
   "source": [
    "nfolds = 3\n",
    "tscv = TimeSeriesSplit(n_splits=nfolds)\n",
    "learning_rate = 0.01\n",
    "n_epochs = 2\n",
    "hidden_size = 5\n",
    "loss_fn = nn.MSELoss()\n",
    "for fold, (train_index, test_index) in enumerate(tscv.split(X_train)):\n",
    "    # prep data\n",
    "    X_tr, y_tr = X_train[torch.LongTensor(train_index)],y_train[torch.LongTensor(train_index)]\n",
    "    X_v, y_v = X_train[torch.LongTensor(test_index)],y_train[torch.LongTensor(test_index)]\n",
    "    dl_train = DataLoader(ElectricityDataset(X_tr, y_tr),batch_size=5)\n",
    "    dl_valid = DataLoader(ElectricityDataset(X_v, y_v),batch_size=1)\n",
    "    # model\n",
    "    model = lstm_seq2seq(1, hidden_size)\n",
    "    optimizer = optim.Adam(model.parameters(), lr = learning_rate)\n",
    "    training_losses,eval_losses = train_and_evaluate(model,dl_train,dl_valid,n_epochs,optimizer, loss_fn)\n",
    "    plt.plot(training_losses,label=\"training\",color=\"blue\")\n",
    "    plt.plot(eval_losses,label=\"validation\",color=\"red\")\n",
    "    if fold == 0:\n",
    "        plt.legend()\n",
    "plt.show()"
   ]
  },
  {
   "cell_type": "code",
   "execution_count": 9,
   "metadata": {},
   "outputs": [],
   "source": [
    "n_epochs = 30\n",
    "learning_rate = 0.01\n",
    "model = lstm_seq2seq(1, hidden_size)\n",
    "optimizer = optim.Adam(model.parameters(), lr = learning_rate)\n",
    "for epoch in range(n_epochs):\n",
    "     model.train_single_epoch(dl_train, optimizer, loss_fn)"
   ]
  },
  {
   "cell_type": "markdown",
   "metadata": {},
   "source": [
    "## Inference\n",
    "\n",
    "Predict on the test data"
   ]
  },
  {
   "cell_type": "code",
   "execution_count": 10,
   "metadata": {},
   "outputs": [],
   "source": [
    "# inference\n",
    "y_preds = []\n",
    "for x in X_test:\n",
    "    y_ = model.inference(x,output_size)\n",
    "    y_preds.append(y_.squeeze())"
   ]
  },
  {
   "cell_type": "code",
   "execution_count": 11,
   "metadata": {},
   "outputs": [],
   "source": [
    "def rmse_next_n_step(y_tests,y_preds,n):\n",
    "    y_preds = [y[0:n] for y in y_preds]\n",
    "    y_tests = [y[0:n] for y in y_tests]\n",
    "    y_preds = np.concatenate(y_preds)\n",
    "    y_tests = np.concatenate(y_tests)\n",
    "    return np.sqrt(np.mean((y_preds-y_tests)**2))"
   ]
  },
  {
   "cell_type": "code",
   "execution_count": 12,
   "metadata": {},
   "outputs": [
    {
     "name": "stdout",
     "output_type": "stream",
     "text": [
      "1 RMSE: 0.6334\n",
      "2 RMSE: 0.6787\n",
      "3 RMSE: 0.7103\n",
      "4 RMSE: 0.7315\n",
      "5 RMSE: 0.7461\n",
      "6 RMSE: 0.7564\n",
      "7 RMSE: 0.7643\n",
      "8 RMSE: 0.7714\n",
      "9 RMSE: 0.7770\n",
      "10 RMSE: 0.7810\n",
      "11 RMSE: 0.7845\n",
      "12 RMSE: 0.7878\n"
     ]
    }
   ],
   "source": [
    "for n in range(1,output_size+1):\n",
    "    print(n,\"RMSE: {0:.4f}\".format(rmse_next_n_step(y_test,y_preds,n)))"
   ]
  },
  {
   "cell_type": "code",
   "execution_count": 13,
   "metadata": {},
   "outputs": [
    {
     "data": {
      "text/plain": [
       "0.8261978085059821"
      ]
     },
     "execution_count": 13,
     "metadata": {},
     "output_type": "execute_result"
    }
   ],
   "source": [
    "np.std(np.concatenate(y_test))"
   ]
  },
  {
   "cell_type": "code",
   "execution_count": 14,
   "metadata": {},
   "outputs": [],
   "source": [
    "# some functions for plotting examples on original scale\n",
    "# example\n",
    "def reconstruct_ts(ts,start,stop):\n",
    "    \"\"\"\n",
    "    reconstruct upto index n\n",
    "    \"\"\"\n",
    "    n = stop-start\n",
    "    out = np.full(n, np.nan)\n",
    "    for t in range(n):\n",
    "        out[t] = ts[start+t][0]\n",
    "    return out\n",
    "\n",
    "def inverse_transform(x):\n",
    "    \"\"\"\n",
    "    x: np array\n",
    "    \"\"\"\n",
    "    return np.exp(scaler.inverse_transform(x))\n",
    "    \n",
    "def plot_example_prediction(start,stop,output_size):\n",
    "    y_obs = inverse_transform(reconstruct_ts(X_test,start,stop))\n",
    "    y_pred = inverse_transform(y_preds[stop])\n",
    "    y_truth = inverse_transform(reconstruct_ts(X_test,stop,stop+output_size))\n",
    "    plt.plot(range(start,stop),y_obs)\n",
    "    plt.plot(range(stop-1,stop+output_size),np.insert(y_pred,0,y_obs[-1]))\n",
    "    plt.plot(range(stop-1,stop+output_size),np.insert(y_truth,0,y_obs[-1]),'--')\n",
    "    plt.xlabel(\"time (hours)\")\n",
    "    plt.ylabel(\"energy usage\")\n",
    "    plt.show()"
   ]
  },
  {
   "cell_type": "code",
   "execution_count": 15,
   "metadata": {},
   "outputs": [
    {
     "data": {
      "image/png": "[encoded data removed]",
      "text/plain": [
       "<Figure size 432x288 with 1 Axes>"
      ]
     },
     "metadata": {
      "needs_background": "light"
     },
     "output_type": "display_data"
    },
    {
     "data": {
      "image/png": "[encoded data removed]",
      "text/plain": [
       "<Figure size 432x288 with 1 Axes>"
      ]
     },
     "metadata": {
      "needs_background": "light"
     },
     "output_type": "display_data"
    },
    {
     "data": {
      "image/png": "[encoded data removed]",
      "text/plain": [
       "<Figure size 432x288 with 1 Axes>"
      ]
     },
     "metadata": {
      "needs_background": "light"
     },
     "output_type": "display_data"
    }
   ],
   "source": [
    "start_stops = [(0,20),(40,60),(80,100)]\n",
    "for start_stop in start_stops:\n",
    "    plot_example_prediction(start_stop[0],start_stop[1],output_size)"
   ]
  },
  {
   "cell_type": "markdown",
   "metadata": {},
   "source": [
    "## The encoder"
   ]
  },
  {
   "cell_type": "code",
   "execution_count": 16,
   "metadata": {},
   "outputs": [],
   "source": [
    "output, state = model.encoder(X_test[0:1])"
   ]
  },
  {
   "cell_type": "code",
   "execution_count": 17,
   "metadata": {},
   "outputs": [
    {
     "data": {
      "text/plain": [
       "tensor([[[-0.6452,  0.0136,  0.2123,  0.0020, -0.1821]]],\n",
       "       grad_fn=<StackBackward>)"
      ]
     },
     "execution_count": 17,
     "metadata": {},
     "output_type": "execute_result"
    }
   ],
   "source": [
    "# encoded state\n",
    "state[0]"
   ]
  },
  {
   "cell_type": "code",
   "execution_count": null,
   "metadata": {},
   "outputs": [],
   "source": []
  }
 ],
 "metadata": {
  "kernelspec": {
   "display_name": "Python 3",
   "language": "python",
   "name": "python3"
  },
  "language_info": {
   "codemirror_mode": {
    "name": "ipython",
    "version": 3
   },
   "file_extension": ".py",
   "mimetype": "text/x-python",
   "name": "python",
   "nbconvert_exporter": "python",
   "pygments_lexer": "ipython3",
   "version": "3.7.4"
  }
 },
 "nbformat": 4,
 "nbformat_minor": 4
}
