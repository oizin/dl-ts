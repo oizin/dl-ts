{
 "cells": [
  {
   "cell_type": "markdown",
   "metadata": {},
   "source": [
    "# Bayesian LSTM via dropout\n",
    "\n",
    "Some description"
   ]
  },
  {
   "cell_type": "code",
   "execution_count": 1,
   "metadata": {},
   "outputs": [],
   "source": [
    "import torch\n",
    "import torch.nn as nn\n",
    "import torch.optim as optim\n",
    "from torch.utils.data import Dataset, DataLoader\n",
    "\n",
    "import pandas as pd\n",
    "from sklearn.preprocessing import StandardScaler\n",
    "from sklearn.preprocessing import MinMaxScaler\n",
    "import matplotlib.pyplot as plt\n",
    "import numpy as np\n",
    "from tqdm import tqdm \n",
    "from energy_data import import_energy_data\n",
    "from ts_utils import create_sliding_window\n",
    "from sklearn.model_selection import TimeSeriesSplit\n",
    "\n",
    "from models.lstm_encoder_decoder import lstm_seq2seq\n",
    "from models.bayesian_lstm_dropout import BayesLSTMencoder"
   ]
  },
  {
   "cell_type": "code",
   "execution_count": 2,
   "metadata": {},
   "outputs": [],
   "source": [
    "if torch.cuda.is_available():\n",
    "    DEVICE = \"cuda\"\n",
    "else:\n",
    "    DEVICE = \"cpu\""
   ]
  },
  {
   "cell_type": "markdown",
   "metadata": {},
   "source": [
    "## Electricity data\n",
    "\n",
    "We'll need two sets of data, for the training and pretraining steps"
   ]
  },
  {
   "cell_type": "code",
   "execution_count": 3,
   "metadata": {},
   "outputs": [
    {
     "name": "stdout",
     "output_type": "stream",
     "text": [
      "                                   date  day_of_week  hour_of_day  \\\n",
      "date                                                                \n",
      "2016-01-11 17:00:00 2016-01-11 17:00:00            0           17   \n",
      "2016-01-11 18:00:00 2016-01-11 18:00:00            0           18   \n",
      "2016-01-11 19:00:00 2016-01-11 19:00:00            0           19   \n",
      "2016-01-11 20:00:00 2016-01-11 20:00:00            0           20   \n",
      "2016-01-11 21:00:00 2016-01-11 21:00:00            0           21   \n",
      "\n",
      "                     log_energy_consumption  \n",
      "date                                         \n",
      "2016-01-11 17:00:00                4.007333  \n",
      "2016-01-11 18:00:00                5.174265  \n",
      "2016-01-11 19:00:00                5.155217  \n",
      "2016-01-11 20:00:00                4.828314  \n",
      "2016-01-11 21:00:00                4.637960  \n"
     ]
    }
   ],
   "source": [
    "# we'll use the electricity data for this, import:\n",
    "energy_df = import_energy_data()\n",
    "print(energy_df.head())\n",
    "\n",
    "train_split = 0.7\n",
    "n_train = int(train_split * len(energy_df))\n",
    "n_test = len(energy_df) - n_train\n",
    "\n",
    "features = ['log_energy_consumption','day_of_week','hour_of_day']\n",
    "feature_array = energy_df[features].values\n",
    "\n",
    "# Fit Scaler only on Training features\n",
    "scaler = StandardScaler()\n",
    "scaler.fit(feature_array[:n_train])\n",
    "\n",
    "target_scaler = StandardScaler()\n",
    "target_scaler.fit(feature_array[:n_train,0:1])\n",
    "\n",
    "def inverse_transform(x):\n",
    "    return np.exp(target_scaler.inverse_transform(x.reshape(-1, 1)))\n",
    "\n",
    "# Transform on both Training and Test data\n",
    "scaled_array = pd.DataFrame(scaler.transform(feature_array),\n",
    "                            columns=features)"
   ]
  },
  {
   "cell_type": "code",
   "execution_count": 4,
   "metadata": {},
   "outputs": [
    {
     "name": "stdout",
     "output_type": "stream",
     "text": [
      "   log_energy_consumption  day_of_week  hour_of_day\n",
      "0                0.216290          0.0     0.739130\n",
      "1                0.596809          0.0     0.782609\n",
      "2                0.590598          0.0     0.826087\n",
      "3                0.484000          0.0     0.869565\n",
      "4                0.421928          0.0     0.913043\n"
     ]
    }
   ],
   "source": [
    "print(scaled_array.head())"
   ]
  },
  {
   "cell_type": "markdown",
   "metadata": {},
   "source": [
    "## Training\n",
    "\n",
    "Train LSTM encoder decoder -> train LSTM\n",
    "\n",
    "### Pretraining"
   ]
  },
  {
   "cell_type": "code",
   "execution_count": 5,
   "metadata": {},
   "outputs": [],
   "source": [
    "class ElectricityDatasetED(Dataset):\n",
    "    \n",
    "    def __init__(self,X,y):\n",
    "        self.X,self.y = X,y\n",
    "        \n",
    "    def __len__(self):\n",
    "        return len(self.y)\n",
    "    \n",
    "    def __getitem__(self, idx):\n",
    "        return self.X[idx].to(DEVICE),self.y[idx].to(DEVICE)"
   ]
  },
  {
   "cell_type": "code",
   "execution_count": 6,
   "metadata": {},
   "outputs": [],
   "source": [
    "# pretraining data: only the time series\n",
    "sequence_length = 24\n",
    "output_size = 12\n",
    "Xe, ye = create_sliding_window(pd.DataFrame(scaled_array.loc[:,'log_energy_consumption']), sequence_length,output_size=output_size)\n",
    "\n",
    "Xe_train = Xe[:n_train]\n",
    "ye_train = ye[:n_train]\n",
    "\n",
    "Xe_test = Xe[n_train:]\n",
    "ye_test = ye[n_train:]\n",
    "\n",
    "Xe_train = torch.tensor(Xe_train).float()\n",
    "ye_train = torch.tensor(ye_train).unsqueeze(2).float()\n",
    "Xe_test = torch.tensor(Xe_test).float()"
   ]
  },
  {
   "cell_type": "code",
   "execution_count": 7,
   "metadata": {},
   "outputs": [],
   "source": [
    "def train_and_evaluate(model,dl_train,dl_valid,n_epochs,optimizer, loss_fn):\n",
    "    training_losses = np.full(n_epochs, np.nan)\n",
    "    eval_losses = np.full(n_epochs, np.nan)\n",
    "    with tqdm(total=n_epochs) as tr:\n",
    "        for epoch in range(n_epochs):\n",
    "            train_loss = model.train_single_epoch(dl_train, optimizer, loss_fn)\n",
    "            eval_loss = model.evaluate(dl_valid, loss_fn)\n",
    "            # loss for epoch \n",
    "            training_losses\n",
    "            training_losses[epoch] = train_loss\n",
    "            eval_losses[epoch] = eval_loss\n",
    "            # progress bar \n",
    "            tr.set_postfix(eval_loss=\"{0:.5f}\".format(eval_loss))\n",
    "            tr.update()\n",
    "    return training_losses,eval_losses"
   ]
  },
  {
   "cell_type": "code",
   "execution_count": 8,
   "metadata": {},
   "outputs": [],
   "source": [
    "# nfolds = 3\n",
    "# tscv = TimeSeriesSplit(n_splits=nfolds)\n",
    "# learning_rate = 0.01\n",
    "# n_epochs = 30\n",
    "# hidden_size = 5\n",
    "# loss_fn = nn.MSELoss()\n",
    "# for fold, (train_index, test_index) in enumerate(tscv.split(X_train)):\n",
    "#     # prep data\n",
    "#     X_tr, y_tr = X_train[torch.LongTensor(train_index)],y_train[torch.LongTensor(train_index)]\n",
    "#     X_v, y_v = X_train[torch.LongTensor(test_index)],y_train[torch.LongTensor(test_index)]\n",
    "#     dl_train = DataLoader(ElectricityDataset(X_tr, y_tr),batch_size=5)\n",
    "#     dl_valid = DataLoader(ElectricityDataset(X_v, y_v),batch_size=1)\n",
    "#     # model\n",
    "#     model = lstm_seq2seq(1, hidden_size)\n",
    "#     optimizer = optim.Adam(model.parameters(), lr = learning_rate)\n",
    "#     training_losses,eval_losses = train_and_evaluate(model,dl_train,dl_valid,n_epochs,optimizer, loss_fn)\n",
    "#     plt.plot(training_losses,label=\"training\",color=\"blue\")\n",
    "#     plt.plot(eval_losses,label=\"validation\",color=\"red\")\n",
    "#     if fold == 0:\n",
    "#         plt.legend()\n",
    "# plt.show()"
   ]
  },
  {
   "cell_type": "code",
   "execution_count": 9,
   "metadata": {},
   "outputs": [],
   "source": [
    "dl_train = DataLoader(ElectricityDatasetED(Xe_train, ye_train),batch_size=5)"
   ]
  },
  {
   "cell_type": "code",
   "execution_count": 10,
   "metadata": {},
   "outputs": [
    {
     "name": "stderr",
     "output_type": "stream",
     "text": [
      "100%|██████████████████████████████████████████████████████████████████████████████████| 30/30 [07:13<00:00, 14.44s/it]\n"
     ]
    }
   ],
   "source": [
    "n_epochs = 30\n",
    "learning_rate = 0.01\n",
    "hidden_size = 32\n",
    "loss_fn = nn.MSELoss()\n",
    "encoder_decoder = lstm_seq2seq(1, hidden_size).to(DEVICE)\n",
    "optimizer = optim.Adam(encoder_decoder.parameters(), lr = learning_rate)\n",
    "with tqdm(total=n_epochs) as tr:\n",
    "    for epoch in range(n_epochs):\n",
    "        encoder_decoder.train_single_epoch(dl_train, optimizer, loss_fn)\n",
    "        tr.update()"
   ]
  },
  {
   "cell_type": "markdown",
   "metadata": {},
   "source": [
    "### Training"
   ]
  },
  {
   "cell_type": "code",
   "execution_count": 11,
   "metadata": {},
   "outputs": [],
   "source": [
    "class ElectricityDataset(Dataset):\n",
    "    \n",
    "    def __init__(self,X_encode,X_other,y):\n",
    "        self.X_encode,self.X_other,self.y = X_encode,X_other,y\n",
    "        \n",
    "    def __len__(self):\n",
    "        return len(self.y)\n",
    "    \n",
    "    def __getitem__(self, idx):\n",
    "        return self.X_encode[idx].to(DEVICE),self.X_other[idx].to(DEVICE),self.y[idx].to(DEVICE)"
   ]
  },
  {
   "cell_type": "code",
   "execution_count": 12,
   "metadata": {},
   "outputs": [],
   "source": [
    "# training data: time series plut other stuff\n",
    "Xo, y = scaled_array.loc[:,['day_of_week','hour_of_day']].values, scaled_array.loc[:,['log_energy_consumption']].values\n",
    "\n",
    "Xo_train = Xo[:n_train]\n",
    "y_train = y[:n_train]\n",
    "Xo_train = Xo_train[sequence_length:(-output_size)]\n",
    "y_train = y_train[sequence_length:(-output_size)]\n",
    "\n",
    "Xo_test = Xo[n_train:]\n",
    "y_test = y[n_train:]\n",
    "Xo_test = Xo_test[sequence_length:(-output_size)]\n",
    "y_test = y_test[sequence_length:(-output_size)]\n",
    "\n",
    "Xo_train = torch.tensor(Xo_train).unsqueeze(1).float()\n",
    "y_train = torch.tensor(y_train).unsqueeze(2).float()\n",
    "Xo_test = torch.tensor(Xo_test).unsqueeze(1).float()"
   ]
  },
  {
   "cell_type": "code",
   "execution_count": 13,
   "metadata": {},
   "outputs": [],
   "source": [
    "dl_train = DataLoader(ElectricityDataset(Xe_train,Xo_train,y_train),batch_size=5)"
   ]
  },
  {
   "cell_type": "code",
   "execution_count": 14,
   "metadata": {},
   "outputs": [],
   "source": [
    "def train_encoder_bool(model, train = False):\n",
    "    for name, param in model.named_parameters():\n",
    "        if param.requires_grad & name.startswith(\"encoder\"):\n",
    "            param.requires_grad = train"
   ]
  },
  {
   "cell_type": "code",
   "execution_count": 15,
   "metadata": {},
   "outputs": [
    {
     "name": "stderr",
     "output_type": "stream",
     "text": [
      "100%|██████████████████████████████████████████████████████████████████████████████████| 30/30 [00:58<00:00,  1.95s/it]\n"
     ]
    }
   ],
   "source": [
    "n_epochs = 30\n",
    "learning_rate = 0.01\n",
    "hidden_size = 32\n",
    "model = BayesLSTMencoder(encoder_decoder.encoder,2,10,1).to(DEVICE)\n",
    "train_encoder_bool(model)\n",
    "optimizer = optim.Adam(model.parameters(), lr = learning_rate)\n",
    "with tqdm(total=n_epochs) as tr:\n",
    "    for epoch in range(n_epochs):\n",
    "        model.train_single_epoch(dl_train, optimizer, loss_fn)\n",
    "        tr.update()"
   ]
  },
  {
   "cell_type": "markdown",
   "metadata": {},
   "source": [
    "## Inference\n",
    "\n",
    "Predict on the test data"
   ]
  },
  {
   "cell_type": "code",
   "execution_count": 16,
   "metadata": {},
   "outputs": [],
   "source": [
    "# inference - mean only\n",
    "y_preds = []\n",
    "for xe,xo in zip(Xe_test,Xo_test):\n",
    "    y_ = model.inference(xe.to(DEVICE),xo.to(DEVICE))\n",
    "    y_preds.append(y_.squeeze())"
   ]
  },
  {
   "cell_type": "code",
   "execution_count": 17,
   "metadata": {},
   "outputs": [
    {
     "name": "stdout",
     "output_type": "stream",
     "text": [
      "RMSE  0.1639246355584475\n"
     ]
    }
   ],
   "source": [
    "y_preds = np.array(y_preds)\n",
    "y_tests = np.concatenate(y_test)\n",
    "print(\"RMSE \",np.sqrt(np.mean((y_preds-y_tests)**2)))"
   ]
  },
  {
   "cell_type": "code",
   "execution_count": 19,
   "metadata": {},
   "outputs": [
    {
     "name": "stdout",
     "output_type": "stream",
     "text": [
      "RMSE (original scale) 67.98744026379488\n"
     ]
    }
   ],
   "source": [
    "print(\"RMSE (original scale)\",np.sqrt(np.mean((inverse_transform(y_preds)-inverse_transform(y_tests))**2)))"
   ]
  },
  {
   "cell_type": "code",
   "execution_count": 20,
   "metadata": {},
   "outputs": [
    {
     "data": {
      "text/plain": [
       "Text(0.5, 1.0, 'Bayesian LSTM')"
      ]
     },
     "execution_count": 20,
     "metadata": {},
     "output_type": "execute_result"
    },
    {
     "data": {
      "image/png": "[encoded data removed]",
      "text/plain": [
       "<Figure size 432x288 with 1 Axes>"
      ]
     },
     "metadata": {
      "needs_background": "light"
     },
     "output_type": "display_data"
    }
   ],
   "source": [
    "plt.plot(np.linspace(np.min(y_preds),np.max(y_preds)),np.linspace(np.min(y_tests),np.max(y_tests)),\"r--\")\n",
    "plt.scatter(y_preds,y_tests)\n",
    "plt.xlabel(\"predictions\")\n",
    "plt.ylabel(\"truth\")\n",
    "plt.title(\"Bayesian LSTM\")"
   ]
  },
  {
   "cell_type": "code",
   "execution_count": null,
   "metadata": {},
   "outputs": [],
   "source": [
    "# example predictions\n",
    "plt.plot(inverse_transform(y_tests[0:72]))\n",
    "plt.plot(inverse_transform(y_preds[0:72]))"
   ]
  },
  {
   "cell_type": "code",
   "execution_count": null,
   "metadata": {},
   "outputs": [],
   "source": [
    "# inference - mean plus sd\n",
    "def prediction_samples(Xe_test,Xo_test,B):\n",
    "    y_preds_B = np.full((B,Xe_test.size(0)),np.nan)\n",
    "    with tqdm(total=B) as tr:\n",
    "        for b in range(B):\n",
    "            y_preds = []\n",
    "            for xe,xo in zip(Xe_test,Xo_test):\n",
    "                y_ = model.inference(xe.to(DEVICE),xo.to(DEVICE),True)\n",
    "                y_preds.append(y_.squeeze())\n",
    "            y_preds_B[b,:] = np.array(y_preds)\n",
    "            tr.update()\n",
    "    return(y_preds_B)"
   ]
  },
  {
   "cell_type": "code",
   "execution_count": null,
   "metadata": {},
   "outputs": [],
   "source": [
    "# example prediction intervals\n",
    "B = 100\n",
    "y_preds_sample = prediction_samples(Xe_test,Xo_test,B)\n",
    "plt.plot(inverse_transform(y_tests[0:72]))\n",
    "for b in range(B):\n",
    "    plt.plot(inverse_transform(y_preds_sample[b,0:72]),\"r-\",alpha=0.1)\n",
    "plt.show()"
   ]
  },
  {
   "cell_type": "code",
   "execution_count": null,
   "metadata": {},
   "outputs": [],
   "source": []
  }
 ],
 "metadata": {
  "kernelspec": {
   "display_name": "Python 3",
   "language": "python",
   "name": "python3"
  },
  "language_info": {
   "codemirror_mode": {
    "name": "ipython",
    "version": 3
   },
   "file_extension": ".py",
   "mimetype": "text/x-python",
   "name": "python",
   "nbconvert_exporter": "python",
   "pygments_lexer": "ipython3",
   "version": "3.7.4"
  }
 },
 "nbformat": 4,
 "nbformat_minor": 4
}
